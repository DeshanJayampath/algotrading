{
 "cells": [
  {
   "cell_type": "code",
   "execution_count": null,
   "metadata": {},
   "outputs": [],
   "source": [
    "import pandas as pd\n",
    "import numpy as np\n",
    "import matplotlib.pyplot as plt\n",
    "import datetime as dt\n",
    "import yfinance as yf\n",
    "import os\n",
    "plt.style.use('ggplot')\n",
    "\n",
    "data_folder = 'C:/Users/user/Desktop/Python Scripts'\n",
    "\n",
    "sentiment_df = pd.read_csv(os.path.join(data_folder, 'sentiment_data.csv'))\n",
    "\n",
    "sentiment_df['date'] = pd.to_datetime(sentiment_df['date'])\n",
    "\n",
    "sentiment_df = sentiment_df.set_index(['date', 'symbol'])\n",
    "\n",
    "sentiment_df['engagement_ratio'] = sentiment_df['twitterComments']/sentiment_df['twitterLikes']\n",
    "\n",
    "sentiment_df = sentiment_df[(sentiment_df['twitterLikes']>20)&(sentiment_df['twitterComments']>10)]\n",
    "\n",
    "sentiment_df"
   ]
  },
  {
   "cell_type": "code",
   "execution_count": null,
   "metadata": {},
   "outputs": [],
   "source": [
    "aggragated_df = (sentiment_df.reset_index('symbol').groupby([pd.Grouper(freq='M'), 'symbol'])\n",
    "                    [['engagement_ratio']].mean())\n",
    "\n",
    "aggragated_df['rank'] = (aggragated_df.groupby(level=0)['engagement_ratio']\n",
    "                         .transform(lambda x: x.rank(ascending=False)))\n",
    "\n",
    "aggragated_df"
   ]
  },
  {
   "cell_type": "code",
   "execution_count": null,
   "metadata": {},
   "outputs": [],
   "source": [
    "filtered_df = aggragated_df[aggragated_df['rank']<6].copy()\n",
    "\n",
    "filtered_df = filtered_df.reset_index(level=1)\n",
    "\n",
    "filtered_df.index = filtered_df.index+pd.DateOffset(1)\n",
    "\n",
    "filtered_df = filtered_df.reset_index().set_index(['date', 'symbol'])\n",
    "\n",
    "filtered_df.head(20)"
   ]
  },
  {
   "cell_type": "code",
   "execution_count": null,
   "metadata": {},
   "outputs": [],
   "source": [
    "dates = filtered_df.index.get_level_values('date').unique().tolist()\n",
    "\n",
    "fixed_dates = {}\n",
    "\n",
    "for d in dates:\n",
    "    \n",
    "    fixed_dates[d.strftime('%Y-%m-%d')] = filtered_df.xs(d, level=0).index.tolist()\n",
    "    \n",
    "fixed_dates"
   ]
  },
  {
   "cell_type": "code",
   "execution_count": null,
   "metadata": {},
   "outputs": [],
   "source": [
    "stocks_list = sentiment_df.index.get_level_values('symbol').unique().tolist()\n",
    "\n",
    "prices_df = yf.download(tickers=stocks_list,\n",
    "                        start='2021-01-01',\n",
    "                        end='2023-03-01')"
   ]
  },
  {
   "cell_type": "code",
   "execution_count": null,
   "metadata": {},
   "outputs": [],
   "source": [
    "returns_df = np.log(prices_df['Adj Close']).diff().dropna()\n",
    "\n",
    "portfolio_df = pd.DataFrame()\n",
    "\n",
    "for start_date in fixed_dates.keys():\n",
    "    \n",
    "    end_date = (pd.to_datetime(start_date)+pd.offsets.MonthEnd()).strftime('%Y-%m-%d')\n",
    "    \n",
    "    cols = fixed_dates[start_date]\n",
    "    \n",
    "    temp_df = returns_df[start_date:end_date][cols].mean(axis=1).to_frame('portfolio_return')\n",
    "    \n",
    "    portfolio_df = pd.concat([portfolio_df, temp_df], axis=0)\n",
    "    \n",
    "portfolio_df"
   ]
  },
  {
   "cell_type": "code",
   "execution_count": null,
   "metadata": {},
   "outputs": [],
   "source": [
    "qqq_df = yf.download(tickers='QQQ',\n",
    "                     start='2021-01-01',\n",
    "                     end='2023-03-01')\n",
    "\n",
    "qqq_ret = np.log(qqq_df['Adj Close']).diff().to_frame('nasdaq_return')\n",
    "\n",
    "portfolio_df = portfolio_df.merge(qqq_ret,\n",
    "                                  left_index=True,\n",
    "                                  right_index=True)\n",
    "\n",
    "portfolio_df"
   ]
  },
  {
   "cell_type": "code",
   "execution_count": null,
   "metadata": {},
   "outputs": [],
   "source": [
    "portfolios_cumulative_return = np.exp(np.log1p(portfolio_df).cumsum()).sub(1)\n",
    "\n",
    "portfolios_cumulative_return.plot(figsize=(16,6))\n",
    "\n",
    "plt.title('Twitter Engagement Ratio Strategy Return Over Time')\n",
    "\n",
    "plt.gca().yaxis.set_major_formatter(mtick.PercentFormatter(1))\n",
    "\n",
    "plt.ylabel('Return')\n",
    "\n",
    "plt.show()"
   ]
  },
  {
   "cell_type": "code",
   "execution_count": null,
   "metadata": {},
   "outputs": [],
   "source": [
    "import matplotlib.pyplot as plt\n",
    "from arch import arch_model\n",
    "import pandas_ta\n",
    "import pandas as pd\n",
    "import numpy as np\n",
    "import os\n",
    "\n",
    "data_folder = 'C:/Users/user/Desktop/Python Scripts'\n",
    "\n",
    "daily_df = pd.read_csv(os.path.join(data_folder, 'simulated_daily_data.csv'))\n",
    "\n",
    "daily_df = daily_df.drop('Unnamed: 7', axis=1)\n",
    "\n",
    "daily_df['Date'] = pd.to_datetime(daily_df['Date'])\n",
    "\n",
    "daily_df = daily_df.set_index('Date')\n",
    "\n",
    "\n",
    "intraday_5min_df = pd.read_csv(os.path.join(data_folder, 'simulated_5min_data.csv'))\n",
    "\n",
    "intraday_5min_df = intraday_5min_df.drop('Unnamed: 6', axis=1)\n",
    "\n",
    "intraday_5min_df['datetime'] = pd.to_datetime(intraday_5min_df['datetime'])\n",
    "\n",
    "intraday_5min_df = intraday_5min_df.set_index('datetime')\n",
    "\n",
    "intraday_5min_df['date'] = pd.to_datetime(intraday_5min_df.index.date)\n",
    "\n",
    "intraday_5min_df"
   ]
  },
  {
   "cell_type": "code",
   "execution_count": null,
   "metadata": {},
   "outputs": [],
   "source": [
    "daily_df['log_ret'] = np.log(daily_df['Adj Close']).diff()\n",
    "\n",
    "daily_df['variance'] = daily_df['log_ret'].rolling(180).var()\n",
    "\n",
    "daily_df = daily_df['2020':]\n",
    "\n",
    "def predict_volatility(x):\n",
    "    \n",
    "    best_model = arch_model(y=x,\n",
    "                            p=1,\n",
    "                            q=3).fit(update_freq=5,\n",
    "                                     disp='off')\n",
    "    \n",
    "    variance_forecast = best_model.forecast(horizon=1).variance.iloc[-1,0]\n",
    "\n",
    "    print(x.index[-1])\n",
    "    \n",
    "    return variance_forecast\n",
    "\n",
    "daily_df['predictions'] = daily_df['log_ret'].rolling(180).apply(lambda x: predict_volatility(x))\n",
    "\n",
    "daily_df = daily_df.dropna()\n",
    "\n",
    "daily_df"
   ]
  },
  {
   "cell_type": "code",
   "execution_count": null,
   "metadata": {},
   "outputs": [],
   "source": [
    "daily_df['prediction_premium'] = (daily_df['predictions']-daily_df['variance'])/daily_df['variance']\n",
    "\n",
    "daily_df['premium_std'] = daily_df['prediction_premium'].rolling(180).std()\n",
    "\n",
    "daily_df['signal_daily'] = daily_df.apply(lambda x: 1 if (x['prediction_premium']>x['premium_std'])\n",
    "                                         else (-1 if (x['prediction_premium']<x['premium_std']*-1) else np.nan),\n",
    "                                         axis=1)\n",
    "\n",
    "daily_df['signal_daily'] = daily_df['signal_daily'].shift()\n",
    "\n",
    "daily_df"
   ]
  },
  {
   "cell_type": "markdown",
   "metadata": {},
   "source": []
  },
  {
   "cell_type": "code",
   "execution_count": null,
   "metadata": {},
   "outputs": [],
   "source": [
    "plt.style.use('ggplot')\n",
    "\n",
    "daily_df['signal_daily'].plot(kind='hist')\n",
    "\n",
    "plt.show()"
   ]
  },
  {
   "cell_type": "code",
   "execution_count": null,
   "metadata": {},
   "outputs": [],
   "source": [
    "final_df = intraday_5min_df.reset_index()\\\n",
    "                            .merge(daily_df[['signal_daily']].reset_index(),\n",
    "                                   left_on='date',\n",
    "                                   right_on='Date')\\\n",
    "                            .drop(['date','Date'], axis=1)\\\n",
    "                            .set_index('datetime')\n",
    "\n",
    "final_df['rsi'] = pandas_ta.rsi(close=final_df['close'],\n",
    "                                length=20)\n",
    "\n",
    "final_df['lband'] = pandas_ta.bbands(close=final_df['close'],\n",
    "                                     length=20).iloc[:,0]\n",
    "\n",
    "final_df['uband'] = pandas_ta.bbands(close=final_df['close'],\n",
    "                                     length=20).iloc[:,2]\n",
    "\n",
    "final_df['signal_intraday'] = final_df.apply(lambda x: 1 if (x['rsi']>70)&\n",
    "                                                            (x['close']>x['uband'])\n",
    "                                             else (-1 if (x['rsi']<30)&\n",
    "                                                         (x['close']<x['lband']) else np.nan),\n",
    "                                             axis=1)\n",
    "\n",
    "final_df['return'] = np.log(final_df['close']).diff()\n",
    "\n",
    "final_df"
   ]
  },
  {
   "cell_type": "code",
   "execution_count": null,
   "metadata": {},
   "outputs": [],
   "source": [
    "final_df['return_sign'] = final_df.apply(lambda x: -1 if (x['signal_daily']==1)&(x['signal_intraday']==1)\n",
    "                                        else (1 if (x['signal_daily']==-1)&(x['signal_intraday']==-1) else np.nan),\n",
    "                                        axis=1)\n",
    "\n",
    "final_df['return_sign'] = final_df.groupby(pd.Grouper(freq='D'))['return_sign']\\\n",
    "                                  .transform(lambda x: x.ffill())\n",
    "\n",
    "final_df['forward_return'] = final_df['return'].shift(-1)\n",
    "\n",
    "final_df['strategy_return'] = final_df['forward_return']*final_df['return_sign']\n",
    "\n",
    "daily_return_df = final_df.groupby(pd.Grouper(freq='D'))['strategy_return'].sum()"
   ]
  },
  {
   "cell_type": "code",
   "execution_count": null,
   "metadata": {},
   "outputs": [],
   "source": [
    "import matplotlib.ticker as mtick\n",
    "\n",
    "strategy_cumulative_return = np.exp(np.log1p(daily_return_df).cumsum()).sub(1)\n",
    "\n",
    "strategy_cumulative_return.plot(figsize=(16,6))\n",
    "\n",
    "plt.title('Intraday Strategy Returns')\n",
    "\n",
    "plt.gca().yaxis.set_major_formatter(mtick.PercentFormatter(1))\n",
    "\n",
    "plt.ylabel('Return')\n",
    "\n",
    "plt.show()"
   ]
  },
  {
   "cell_type": "code",
   "execution_count": null,
   "metadata": {},
   "outputs": [],
   "source": []
  }
 ],
 "metadata": {
  "kernelspec": {
   "display_name": "algotrading",
   "language": "python",
   "name": "python3"
  },
  "language_info": {
   "name": "python",
   "version": "3.9.18"
  }
 },
 "nbformat": 4,
 "nbformat_minor": 2
}
